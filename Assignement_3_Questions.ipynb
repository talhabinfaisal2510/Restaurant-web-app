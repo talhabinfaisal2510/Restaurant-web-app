{
  "nbformat": 4,
  "nbformat_minor": 0,
  "metadata": {
    "colab": {
      "provenance": []
    },
    "kernelspec": {
      "name": "python3",
      "display_name": "Python 3"
    },
    "language_info": {
      "name": "python"
    }
  },
  "cells": [
    {
      "cell_type": "markdown",
      "source": [
        "#**Assignment : 3 (Exploratory Data Analysis)**\n",
        "\n",
        "**Instructions:**\n",
        "\n",
        "* Submit your assignment through Google Classroom by the deadline. Late submissions will not be accepted.\n",
        "\n",
        "* Submit your code as a single **Jupyter/Google Colab notebook**, following the filename format: e.g., **21L-1234.ipynb**. Ensure the notebook includes clear and **visible outputs** for each question.\n",
        "\n",
        "* Prepare and submit proper **presentation slides** for the data visualizations (graphical question outputs), as the presentation will be part of the evaluation. Additionally, thoroughly understand your code and its functionalities, as a **viva** will be conducted during the presentation.\n",
        "\n",
        "* Any form of academic dishonesty (e.g. **plagiarism**, copying code from other sources,\n",
        "sharing code with other students) is strictly prohibited and will result in disciplinary action. The\n",
        "individuals involved will get **zero** in this assignment and **50%** deductions in assignments to come."
      ],
      "metadata": {
        "id": "0s7pVDhhY_ig"
      }
    },
    {
      "cell_type": "markdown",
      "source": [
        "#**Summary Statistics**\n",
        "\n",
        "Summary statistics are exactly what they sound like - they summarize many numbers in one statistic. For example, mean, median, mode, minimum, maximum, variance and standard deviation are summary statistics. Calculating summary statistics allows you to get a better sense of your data, even if there's a lot of it."
      ],
      "metadata": {
        "id": "ys6KTMQQZI2V"
      }
    },
    {
      "cell_type": "markdown",
      "source": [
        "**1.** A **Sales** DataFrame is provided, and you need to print the mean and median of all numerical columns."
      ],
      "metadata": {
        "id": "zWNtcN5Y1gML"
      }
    },
    {
      "cell_type": "code",
      "source": [],
      "metadata": {
        "id": "yX9wL2JB17-a"
      },
      "execution_count": null,
      "outputs": []
    },
    {
      "cell_type": "markdown",
      "source": [
        "**2.** Print the maximum and minimum of the **date** column."
      ],
      "metadata": {
        "id": "DBkbckph2SWd"
      }
    },
    {
      "cell_type": "code",
      "source": [],
      "metadata": {
        "id": "sHhDVhyX2Rv6"
      },
      "execution_count": null,
      "outputs": []
    },
    {
      "cell_type": "markdown",
      "source": [
        "**3.** Take subset for type **A** stores, and calculate their total weekly sales."
      ],
      "metadata": {
        "id": "R8eiY3pA2vKp"
      }
    },
    {
      "cell_type": "code",
      "source": [],
      "metadata": {
        "id": "bVbb5tuK3to-"
      },
      "execution_count": null,
      "outputs": []
    },
    {
      "cell_type": "markdown",
      "source": [
        "**4.** The `.agg()` method allows you to apply more than one function at the same time to the DataFrame. Print the variance and standard deviation of the **weekly_sales** column using `.agg()`."
      ],
      "metadata": {
        "id": "sd-BhoS15E9H"
      }
    },
    {
      "cell_type": "code",
      "source": [],
      "metadata": {
        "id": "wD5RcRqI5YFm"
      },
      "execution_count": null,
      "outputs": []
    },
    {
      "cell_type": "markdown",
      "source": [
        "**5.** The `.agg()` method also allows you to apply custom functions to a DataFrame. Create a custom **IQR** function using `.agg()` to print the IQR of the **temperature_c**, **fuel_price_usd_per_l**, and **unemployment** columns."
      ],
      "metadata": {
        "id": "cOFSVB2m7Y-B"
      }
    },
    {
      "cell_type": "code",
      "source": [],
      "metadata": {
        "id": "fZ4fqR117rMJ"
      },
      "execution_count": null,
      "outputs": []
    },
    {
      "cell_type": "markdown",
      "source": [
        "**6.** Group by the **store** column and print the total **weekly sales** for each store."
      ],
      "metadata": {
        "id": "y5p7q7fV8iVh"
      }
    },
    {
      "cell_type": "code",
      "source": [],
      "metadata": {
        "id": "AIBuLWMm8hgc"
      },
      "execution_count": null,
      "outputs": []
    },
    {
      "cell_type": "markdown",
      "source": [
        "#**Data Visualization**\n",
        "You will work with a **Job Seekers** Dataset, containing information about job seekers and their profiles.\n",
        "\n",
        "Your tasks will involve:\n",
        "\n",
        "**Univariate Analysis:** Analyze the distribution of individual variables.\n",
        "\n",
        "**Bivariate Analysis:** Explore the relationships between two variables.\n",
        "\n",
        "The dataset contains the following columns:\n",
        "\n",
        "- **enrollee_id**: Unique ID for each enrollee.\n",
        "- **city**: Code of the city the enrollee is from.\n",
        "- **city_development_index**: Development index score of the city.\n",
        "- **gender**: Gender of the enrollee.\n",
        "- **relevent_experience**: Whether the enrollee has relevant work experience.\n",
        "- **enrolled_university**: The type of university enrollment (if any).\n",
        "- **education_level**: Highest education level of the enrollee.\n",
        "- **major_discipline**: Main discipline studied.\n",
        "- **experience**: Total years of work experience.\n",
        "- **company_size**: Size of the company the enrollee works for.\n",
        "- **company_type**: Type of company.\n",
        "- **last_new_job**: The time since the last job change.\n",
        "- **training_hours**: Total number of training hours completed.\n",
        "- **target**: Whether the enrollee is looking for a job change (1 = Yes, 0 = No)."
      ],
      "metadata": {
        "id": "Ceg_4Q-u-855"
      }
    },
    {
      "cell_type": "markdown",
      "source": [
        "###**Univariate Analysis:**"
      ],
      "metadata": {
        "id": "n-JBArDR_njt"
      }
    },
    {
      "cell_type": "markdown",
      "source": [
        "**1. Histograms: (Good for interval data)**\n",
        "\n",
        "A histogram divides the data into discrete intervals or \"bins\" and shows the number of data points that fall into each bin.\n",
        "\n",
        "* Create a histogram for the **city_development_index** to understand its distribution across different values.\n",
        "* Create a histogram for **training_hours** to visualize how training hours are distributed among the enrollee population."
      ],
      "metadata": {
        "id": "uYX6SyngDmJ2"
      }
    },
    {
      "cell_type": "code",
      "source": [],
      "metadata": {
        "id": "BNlbgv2ltn3J"
      },
      "execution_count": null,
      "outputs": []
    },
    {
      "cell_type": "code",
      "source": [],
      "metadata": {
        "id": "3_4uEncNrEuS"
      },
      "execution_count": null,
      "outputs": []
    },
    {
      "cell_type": "markdown",
      "source": [
        "**2. Bar Charts: (Good for nominal and small ordinal categorical data)**\n",
        "\n",
        "Bar charts visualize data that is organized according to categories as a series of bars, where the height of each bar represents the values of the data in this category.\n",
        "\n",
        "* Create a bar chart for **gender** to visualize the number of enrollee males and females in the dataset.\n",
        "* Create a bar chart for **education_level** to explore the distribution of enrollee education levels across different categories."
      ],
      "metadata": {
        "id": "IWHfRO5VEgYh"
      }
    },
    {
      "cell_type": "code",
      "source": [],
      "metadata": {
        "id": "IixXTSNitpoj"
      },
      "execution_count": null,
      "outputs": []
    },
    {
      "cell_type": "code",
      "source": [],
      "metadata": {
        "id": "9pd-MgSMtpb4"
      },
      "execution_count": null,
      "outputs": []
    },
    {
      "cell_type": "markdown",
      "source": [
        "**3. Boxplots:**\n",
        "\n",
        "A box-and-whisker plot is a graphical representation of the spread and distribution of a dataset. It displays the central tendency, data spread, and identifies potential outliers.\n",
        "\n",
        "Use boxplots to check for outliers in the numeric variables:\n",
        "* city_development_index\n",
        "* training_hours"
      ],
      "metadata": {
        "id": "ThHJGS9rF3fi"
      }
    },
    {
      "cell_type": "code",
      "source": [],
      "metadata": {
        "id": "FjPmerHZuKBl"
      },
      "execution_count": null,
      "outputs": []
    },
    {
      "cell_type": "code",
      "source": [],
      "metadata": {
        "id": "lAWbV6cnuJwH"
      },
      "execution_count": null,
      "outputs": []
    },
    {
      "cell_type": "markdown",
      "source": [
        "**4. Line Charts: (Good for ordinal categorical and interval data)**\n",
        "\n",
        "A line chart displays how a numeric variable changes across its index or other categories.\n",
        "\n",
        "* Create a line chart for **major_discipline** to visualize the trend in the number of enrollees across different disciplines over time or another continuous variable (if applicable).\n",
        "* Create a line chart for **company_size** to explore the trend in the number of enrollees based on different company size categories over time or another continuous variable (if applicable)."
      ],
      "metadata": {
        "id": "wxZZ684oIA5i"
      }
    },
    {
      "cell_type": "code",
      "source": [],
      "metadata": {
        "id": "1x8uQMIVvMPA"
      },
      "execution_count": null,
      "outputs": []
    },
    {
      "cell_type": "code",
      "source": [],
      "metadata": {
        "id": "hWXfYRhevLyd"
      },
      "execution_count": null,
      "outputs": []
    },
    {
      "cell_type": "markdown",
      "source": [
        "**5. Pie Chart: (Ideal for visualizing proportions of categorical data)**\n",
        "\n",
        "A pie chart represents data as slices of a pie, showing the proportion of each category in a single variable.\n",
        "\n",
        "* Create a pie chart for **gender** to visualize the proportion of male and female enrollee categories in the dataset.\n",
        "* Create a pie chart for **company_type** to explore the distribution of different types of companies where the enrollee has worked."
      ],
      "metadata": {
        "id": "4fSDPlsVK47q"
      }
    },
    {
      "cell_type": "code",
      "source": [],
      "metadata": {
        "id": "e2wfLOcTwUww"
      },
      "execution_count": null,
      "outputs": []
    },
    {
      "cell_type": "code",
      "source": [],
      "metadata": {
        "id": "HdJ72H2JK4dc"
      },
      "execution_count": null,
      "outputs": []
    },
    {
      "cell_type": "markdown",
      "source": [
        "###**Bivariate Analysis:**"
      ],
      "metadata": {
        "id": "Ij4Ng3wyGpr_"
      }
    },
    {
      "cell_type": "markdown",
      "source": [
        "**1. Scatter Plots: (Good for interval and some nominal categorical data)**\n",
        "\n",
        "* A scatter plot is a graphical representation of data points in a Cartesian coordinate system. Each data point is represented as a dot on the plot.\n",
        "\n",
        "* Scatter plots are used to visualize the relationship between two continuous variables, making them suitable for assessing correlation.\n",
        "\n",
        "Analyze the relationship between **experience** and **city_development_index**."
      ],
      "metadata": {
        "id": "WD2xnPdVFcPC"
      }
    },
    {
      "cell_type": "code",
      "source": [],
      "metadata": {
        "id": "uEnC3Twnxm-B"
      },
      "execution_count": null,
      "outputs": []
    },
    {
      "cell_type": "markdown",
      "source": [
        "**2. Boxplots:**\n",
        "\n",
        "Create a boxplot for **city_development_index** grouped by **company_size** to examine how the development index varies across different company sizes."
      ],
      "metadata": {
        "id": "91KFxA94G_1Q"
      }
    },
    {
      "cell_type": "code",
      "source": [],
      "metadata": {
        "id": "9WpIgEDCyFcf"
      },
      "execution_count": null,
      "outputs": []
    },
    {
      "cell_type": "markdown",
      "source": [
        "**3. Stacked Bar Chart: (Good for nominal and ordinal categorical data)**\n",
        "\n",
        "A stacked bar chart shows the relationship between two categorical variables, with one stacked on top of the other to compare proportions.\n",
        "\n",
        "Explore the relationship between:\n",
        "\n",
        "* education_level (X-axis)\n",
        "* gender (stacked)\n",
        "\n",
        "Visualize how gender is distributed across different education levels."
      ],
      "metadata": {
        "id": "p9kblX1HJRVw"
      }
    },
    {
      "cell_type": "code",
      "source": [],
      "metadata": {
        "id": "x3BNDE3vyVKr"
      },
      "execution_count": null,
      "outputs": []
    },
    {
      "cell_type": "markdown",
      "source": [
        "#**Correlation Analysis**\n",
        "\n",
        "Correlation is a statistical measure that helps us understand the relationship or association between two or more variables in a dataset. It tells us how these variables change in relation to each other. Correlation is often used to determine whether there's a connection between variables and, if so, the strength and direction of that connection."
      ],
      "metadata": {
        "id": "1EjCHpjkLwsO"
      }
    },
    {
      "cell_type": "markdown",
      "source": [
        "**1.** Calculate the correlation between the following pairs of variables:\n",
        "\n",
        "* city_development_index and target\n",
        "* experience and target\n",
        "* training_hours and target"
      ],
      "metadata": {
        "id": "CHoHDGp8L6ry"
      }
    },
    {
      "cell_type": "code",
      "source": [],
      "metadata": {
        "id": "DSztVK8QzE6y"
      },
      "execution_count": null,
      "outputs": []
    },
    {
      "cell_type": "markdown",
      "source": [
        "**2.** Create a heatmap to visualize the correlation between these numerical columns:\n",
        "\n",
        "* city_development_index\n",
        "* training_hours\n",
        "* experience\n",
        "* target"
      ],
      "metadata": {
        "id": "URs0Cy-7N65U"
      }
    },
    {
      "cell_type": "code",
      "source": [],
      "metadata": {
        "id": "ZdP5ztjxzCKW"
      },
      "execution_count": null,
      "outputs": []
    }
  ]
}